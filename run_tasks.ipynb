{
 "cells": [
  {
   "cell_type": "code",
   "id": "aa5d5348637ce0d3",
   "metadata": {},
   "source": [
    "from Utils.llm.config import Model\n",
    "from Utils.prepare_data import main as prepare_tasks\n",
    "from Utils.execute_test import main as execute\n",
    "from Utils.auto_eval import main as evaluate"
   ],
   "outputs": [],
   "execution_count": null
  },
  {
   "cell_type": "code",
   "id": "f143b437b5a83b6b",
   "metadata": {},
   "source": [
    "# edit before start\n",
    "model = Model.Grok2_1212\n",
    "lang = \"JS\"  # language specific folder name, if your files in Dataset/JS use \"JS\"\n",
    "prepare_tasks(model, lang)"
   ],
   "outputs": [],
   "execution_count": null
  },
  {
   "metadata": {
    "collapsed": true
   },
   "cell_type": "code",
   "source": [
    "attempts = 1  # how much times each experiment will be launched\n",
    "\n",
    "# tasks to launch (will be launched only this task)\n",
    "spot_launch_list = [\n",
    "    # 'GenerateReactApp.txt',\n",
    "]\n",
    "\n",
    "# tasks to skip\n",
    "skip_list = [\n",
    "    # 'GenerateReactApp.txt',\n",
    "]\n",
    "\n",
    "model = Model.Grok2_1212\n",
    "lang = \"JS\"  # language specific folder name, if your files in Dataset/JS use JS\n",
    "execute(model, lang, attempts, spot_launch_list, skip_list)\n"
   ],
   "id": "initial_id",
   "outputs": [],
   "execution_count": null
  },
  {
   "metadata": {},
   "cell_type": "code",
   "source": [
    "# create summary report\n",
    "from Utils.get_tokens_and_time import main as summarize\n",
    "\n",
    "langs = [\n",
    "    'JS',\n",
    "    # 'Java',\n",
    "]\n",
    "\n",
    "models = [\n",
    "    Model.Grok2_1212,\n",
    "]\n",
    "\n",
    "summarize(models=models, langs=langs)"
   ],
   "id": "be266342cb183532",
   "outputs": [],
   "execution_count": null
  },
  {
   "metadata": {},
   "cell_type": "code",
   "source": [
    "# evaluate model results based on summary report\n",
    "evaluate(model_name=Model.Grok2_1212)"
   ],
   "id": "630544898b58b871",
   "outputs": [],
   "execution_count": null
  },
  {
   "metadata": {},
   "cell_type": "code",
   "source": "",
   "id": "36e2b55a03a940b3",
   "outputs": [],
   "execution_count": null
  }
 ],
 "metadata": {
  "kernelspec": {
   "display_name": "Python 3",
   "language": "python",
   "name": "python3"
  },
  "language_info": {
   "codemirror_mode": {
    "name": "ipython",
    "version": 3
   },
   "file_extension": ".py",
   "mimetype": "text/x-python",
   "name": "python",
   "nbconvert_exporter": "python",
   "pygments_lexer": "ipython3",
   "version": "3.12.6"
  }
 },
 "nbformat": 4,
 "nbformat_minor": 5
}
