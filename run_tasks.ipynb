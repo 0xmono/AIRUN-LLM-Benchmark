{
 "cells": [
  {
   "cell_type": "code",
   "id": "aa5d5348637ce0d3",
   "metadata": {},
   "source": [
    "from Utils.llm.config import Model\n",
    "from Utils.prepare_data import main as prepare_tasks\n",
    "from Utils.execute_test import main as execute\n",
    "from Utils.auto_eval import main as evaluate"
   ],
   "outputs": [],
   "execution_count": null
  },
  {
   "metadata": {},
   "cell_type": "code",
   "source": [
    "# edit before start\n",
    "model = Model.OpenAi_o3_mini_0131\n",
    "lang = \"JS\"  # language specific folder name, if your files in Dataset/JS use \"JS\"\n",
    "prepare_tasks(model, lang)"
   ],
   "id": "4ed514b5ef97ad11",
   "outputs": [],
   "execution_count": null
  },
  {
   "metadata": {},
   "cell_type": "code",
   "source": [
    "attempts = 1  # how much times each experiment will be launched\n",
    "\n",
    "# tasks to launch (will be launched only this task)\n",
    "spot_launch_list = [\n",
    "    # 'GenerateReactApp.txt',\n",
    "]\n",
    "\n",
    "# tasks to skip\n",
    "skip_list = [\n",
    "    # 'GenerateReactApp.txt',\n",
    "]\n",
    "\n",
    "model = Model.OpenAi_o3_mini_0131\n",
    "lang = \"JS\"  # language specific folder name, if your files in Dataset/JS use JS\n",
    "execute(model, lang, attempts, spot_launch_list, skip_list)\n"
   ],
   "id": "9b628a70b1048796",
   "outputs": [],
   "execution_count": null
  },
  {
   "metadata": {},
   "cell_type": "code",
   "source": [
    "# create summary report\n",
    "from Utils.get_tokens_and_time import main as summarize\n",
    "\n",
    "langs = [\n",
    "    'JS',\n",
    "    # 'Java',\n",
    "]\n",
    "\n",
    "models = [\n",
    "    Model.OpenAi_o3_mini_0131,\n",
    "]\n",
    "\n",
    "summarize(models=models, langs=langs)"
   ],
   "id": "dc14c8d99732da21",
   "outputs": [],
   "execution_count": null
  },
  {
   "metadata": {},
   "cell_type": "code",
   "source": [
    "# evaluate model results based on summary report\n",
    "evaluate(model_name=Model.OpenAi_o3_mini_0131)"
   ],
   "id": "30144484a2669b24",
   "outputs": [],
   "execution_count": null
  },
  {
   "metadata": {},
   "cell_type": "code",
   "source": "",
   "id": "5d4767bc60a25607",
   "outputs": [],
   "execution_count": null
  }
 ],
 "metadata": {
  "kernelspec": {
   "display_name": "Python 3",
   "language": "python",
   "name": "python3"
  },
  "language_info": {
   "codemirror_mode": {
    "name": "ipython",
    "version": 3
   },
   "file_extension": ".py",
   "mimetype": "text/x-python",
   "name": "python",
   "nbconvert_exporter": "python",
   "pygments_lexer": "ipython3",
   "version": "3.12.6"
  }
 },
 "nbformat": 4,
 "nbformat_minor": 5
}
